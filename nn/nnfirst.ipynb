{
 "cells": [
  {
   "cell_type": "code",
   "execution_count": 26,
   "metadata": {},
   "outputs": [],
   "source": [
    "import numpy as np\n",
    "import matplotlib.pyplot as plt"
   ]
  },
  {
   "cell_type": "code",
   "execution_count": 27,
   "metadata": {},
   "outputs": [],
   "source": [
    "X=np.array([1.5,0.625])\n",
    "y=0.5\n",
    "layer=2\n",
    "layersize =2"
   ]
  },
  {
   "cell_type": "code",
   "execution_count": 28,
   "metadata": {},
   "outputs": [],
   "source": [
    "win=np.array(np.random.randn(X.shape[0]))\n",
    "whidden =np.array(np.random.randn(layersize))\n",
    "w=[win,whidden]\n",
    "\n"
   ]
  },
  {
   "cell_type": "code",
   "execution_count": 29,
   "metadata": {},
   "outputs": [],
   "source": [
    "# epochs= 20\n",
    "# alpha=0.1\n",
    "# errorList = []\n",
    "# weightList =[]\n",
    "# x=X\n",
    "# val= []\n",
    "\n",
    "# for epoch in range(epochs):\n",
    "#     #forward pass\n",
    "#     for i in range(1,layer):\n",
    "#         value =np.dot(x,w[i])\n",
    "#         val[i]= value\n",
    "#         x = w[i]\n",
    "        \n",
    "\n",
    "#     y_out=np.sum(x*val[-1])\n",
    "#     #compute the error\n",
    "#     error= np.square(y-y_out)\n",
    "#     errorList.append(error)\n",
    "#     #compute the gradient of error with respect to w\n",
    "\n",
    "#     gradient = -2*(y-y_out)*X\n",
    "\n",
    "#     #Backpropagate the error\n",
    "\n",
    "#     w = w-gradient*alpha\n",
    "#     weightList.append(w)\n",
    "\n",
    "# print(w)\n",
    "# print(y_out)"
   ]
  },
  {
   "cell_type": "code",
   "execution_count": 30,
   "metadata": {},
   "outputs": [],
   "source": [
    "# plt.plot(range(epochs),errorList)\n",
    "# plt.xlabel(\"Epochs\")\n",
    "# plt.ylabel(\"Error\")\n",
    "# plt.title(\"Epochs vs Error\")"
   ]
  },
  {
   "cell_type": "code",
   "execution_count": 31,
   "metadata": {},
   "outputs": [],
   "source": [
    "# test = X*w\n",
    "# print(test)\n",
    "# print(gradient)"
   ]
  },
  {
   "cell_type": "code",
   "execution_count": 72,
   "metadata": {},
   "outputs": [],
   "source": [
    "class NeuralNetwork:\n",
    "    def __init__(self, layerSize, alpha):\n",
    "        self.layerSize = layerSize\n",
    "        self.alpha = alpha\n",
    "        self.parameters = self.initializeParameters()\n",
    "        self.errorList = []\n",
    "\n",
    "    def initializeParameters(self):\n",
    "        # Initialize weights and biases\n",
    "        parameters = []\n",
    "        for i in range(1, len(self.layerSize)):\n",
    "            parameters[i-1] = np.random.randn(self.layerSize[i-1], self.layerSize[i]) if i<len(self.layerSize) else np.random.randn(self.layerSize[i-1],1) * 0.01\n",
    "        print(\"Parameters = \",parameters)\n",
    "        return parameters\n",
    "    \n",
    "\n",
    "    def error(self, y, y_out):\n",
    "        # Mean Squared Error (MSE)\n",
    "        error = np.mean(np.square(y - y_out))\n",
    "        self.errorList.append(error)\n",
    "        return error\n",
    "\n",
    "        \n",
    "    \n",
    "    def forward(self,X):\n",
    "        cache = {\"A0\": X}  # Store activations\n",
    "        A = X\n",
    "        for i in range(1, len(self.layerSize)):\n",
    "            Z = np.dot(A, self.parameters[f\"W{i}\"]) + self.parameters[f\"b{i}\"]\n",
    "            A = self.relu(Z)\n",
    "            cache[f\"Z{i}\"] = Z\n",
    "            cache[f\"A{i}\"] = A\n",
    "        return A, cache\n",
    "    \n",
    "    \n",
    "    def backward(self,y,y_out,cache):\n",
    "        gradients = {}\n",
    "        m = y.shape[0]\n",
    "        dA = -2*(y-y_out)\n",
    "        for i in range(len(self.layerSize)-1,0,-1):\n",
    "            if i == len(self.layerSize)-1:\n",
    "                gradient = da*self.parameters[i]\n",
    "                print(\"gradient first: \",gradient)\n",
    "                gradients.append(gradient)\n",
    "            else:\n",
    "                gradient = np.dot(gradients[-1],self.parameters[i+1].T)\n",
    "                print(\"gradient second: \",gradient)\n",
    "                gradients.append(gradient)\n",
    "            print(\"gradients\")\n",
    "        return gradients\n",
    "        \n",
    "            \n",
    "\n",
    "    def updateParams(self,gradients):\n",
    "        for i in range(1,len(self.layerSize)):\n",
    "            gradient = gradients[i]\n",
    "            self.parameters[i] = self.parameters[i]-np.dot(gradient,self.alpha)\n",
    "\n",
    "    def plot(self,epochs):\n",
    "        plt.plot(range(epochs),self.errorList)\n",
    "        plt.xlabel(\"Epochs\")\n",
    "        plt.ylabel(\"Error\")\n",
    "        plt.title(\"Epochs vs Error\")\n",
    "        plt.show()\n",
    "\n",
    "    def predict(self,X):\n",
    "        return self.forward(X)\n",
    "    \n",
    "\n",
    "    def fit(self,X,y,epochs):\n",
    "        for epoch in range(epochs):\n",
    "            y_out = self.forward(X)\n",
    "            error = self.error(y,y_out)\n",
    "            grads = self.backward(y,y_out)\n",
    "            self.updateParams(grads)\n",
    "        self.plot(epochs)\n",
    "        \n",
    "\n",
    "        \n",
    "    \n",
    "    \n",
    "\n"
   ]
  },
  {
   "cell_type": "code",
   "execution_count": 73,
   "metadata": {},
   "outputs": [
    {
     "ename": "IndexError",
     "evalue": "list assignment index out of range",
     "output_type": "error",
     "traceback": [
      "\u001b[0;31m---------------------------------------------------------------------------\u001b[0m",
      "\u001b[0;31mIndexError\u001b[0m                                Traceback (most recent call last)",
      "Cell \u001b[0;32mIn[73], line 1\u001b[0m\n\u001b[0;32m----> 1\u001b[0m nn \u001b[38;5;241m=\u001b[39m \u001b[43mNeuralNetwork\u001b[49m\u001b[43m(\u001b[49m\u001b[43m[\u001b[49m\u001b[38;5;241;43m2\u001b[39;49m\u001b[43m,\u001b[49m\u001b[43m \u001b[49m\u001b[38;5;241;43m2\u001b[39;49m\u001b[43m,\u001b[49m\u001b[43m \u001b[49m\u001b[38;5;241;43m1\u001b[39;49m\u001b[43m]\u001b[49m\u001b[43m,\u001b[49m\u001b[43m \u001b[49m\u001b[38;5;241;43m0.1\u001b[39;49m\u001b[43m)\u001b[49m\n\u001b[1;32m      3\u001b[0m \u001b[38;5;66;03m# Properly shaped inputs\u001b[39;00m\n\u001b[1;32m      4\u001b[0m X \u001b[38;5;241m=\u001b[39m np\u001b[38;5;241m.\u001b[39marray([[\u001b[38;5;241m1.5\u001b[39m, \u001b[38;5;241m0.625\u001b[39m]])  \u001b[38;5;66;03m# Shape (1, 2)\u001b[39;00m\n",
      "Cell \u001b[0;32mIn[72], line 5\u001b[0m, in \u001b[0;36mNeuralNetwork.__init__\u001b[0;34m(self, layerSize, alpha)\u001b[0m\n\u001b[1;32m      3\u001b[0m \u001b[38;5;28mself\u001b[39m\u001b[38;5;241m.\u001b[39mlayerSize \u001b[38;5;241m=\u001b[39m layerSize\n\u001b[1;32m      4\u001b[0m \u001b[38;5;28mself\u001b[39m\u001b[38;5;241m.\u001b[39malpha \u001b[38;5;241m=\u001b[39m alpha\n\u001b[0;32m----> 5\u001b[0m \u001b[38;5;28mself\u001b[39m\u001b[38;5;241m.\u001b[39mparameters \u001b[38;5;241m=\u001b[39m \u001b[38;5;28;43mself\u001b[39;49m\u001b[38;5;241;43m.\u001b[39;49m\u001b[43minitializeParameters\u001b[49m\u001b[43m(\u001b[49m\u001b[43m)\u001b[49m\n\u001b[1;32m      6\u001b[0m \u001b[38;5;28mself\u001b[39m\u001b[38;5;241m.\u001b[39merrorList \u001b[38;5;241m=\u001b[39m []\n",
      "Cell \u001b[0;32mIn[72], line 12\u001b[0m, in \u001b[0;36mNeuralNetwork.initializeParameters\u001b[0;34m(self)\u001b[0m\n\u001b[1;32m     10\u001b[0m parameters \u001b[38;5;241m=\u001b[39m []\n\u001b[1;32m     11\u001b[0m \u001b[38;5;28;01mfor\u001b[39;00m i \u001b[38;5;129;01min\u001b[39;00m \u001b[38;5;28mrange\u001b[39m(\u001b[38;5;241m1\u001b[39m, \u001b[38;5;28mlen\u001b[39m(\u001b[38;5;28mself\u001b[39m\u001b[38;5;241m.\u001b[39mlayerSize)):\n\u001b[0;32m---> 12\u001b[0m     \u001b[43mparameters\u001b[49m\u001b[43m[\u001b[49m\u001b[43mi\u001b[49m\u001b[38;5;241;43m-\u001b[39;49m\u001b[38;5;241;43m1\u001b[39;49m\u001b[43m]\u001b[49m \u001b[38;5;241m=\u001b[39m np\u001b[38;5;241m.\u001b[39mrandom\u001b[38;5;241m.\u001b[39mrandn(\u001b[38;5;28mself\u001b[39m\u001b[38;5;241m.\u001b[39mlayerSize[i\u001b[38;5;241m-\u001b[39m\u001b[38;5;241m1\u001b[39m], \u001b[38;5;28mself\u001b[39m\u001b[38;5;241m.\u001b[39mlayerSize[i]) \u001b[38;5;28;01mif\u001b[39;00m i\u001b[38;5;241m<\u001b[39m\u001b[38;5;28mlen\u001b[39m(\u001b[38;5;28mself\u001b[39m\u001b[38;5;241m.\u001b[39mlayerSize) \u001b[38;5;28;01melse\u001b[39;00m np\u001b[38;5;241m.\u001b[39mrandom\u001b[38;5;241m.\u001b[39mrandn(\u001b[38;5;28mself\u001b[39m\u001b[38;5;241m.\u001b[39mlayerSize[i\u001b[38;5;241m-\u001b[39m\u001b[38;5;241m1\u001b[39m],\u001b[38;5;241m1\u001b[39m) \u001b[38;5;241m*\u001b[39m \u001b[38;5;241m0.01\u001b[39m\n\u001b[1;32m     13\u001b[0m \u001b[38;5;28mprint\u001b[39m(\u001b[38;5;124m\"\u001b[39m\u001b[38;5;124mParameters = \u001b[39m\u001b[38;5;124m\"\u001b[39m,parameters)\n\u001b[1;32m     14\u001b[0m \u001b[38;5;28;01mreturn\u001b[39;00m parameters\n",
      "\u001b[0;31mIndexError\u001b[0m: list assignment index out of range"
     ]
    }
   ],
   "source": [
    "nn = NeuralNetwork([2, 2, 1], 0.1)\n",
    "\n",
    "# Properly shaped inputs\n",
    "X = np.array([[1.5, 0.625]])  # Shape (1, 2)\n",
    "y = np.array([[0.5]])         # Shape (1, 1)\n",
    "\n",
    "# Train the neural network\n",
    "nn.fit(X, y, 200)\n",
    "\n",
    "# Predict\n",
    "predictions = nn.predict(X)\n",
    "print(predictions)"
   ]
  },
  {
   "cell_type": "code",
   "execution_count": null,
   "metadata": {},
   "outputs": [],
   "source": []
  }
 ],
 "metadata": {
  "kernelspec": {
   "display_name": "ai",
   "language": "python",
   "name": "python3"
  },
  "language_info": {
   "codemirror_mode": {
    "name": "ipython",
    "version": 3
   },
   "file_extension": ".py",
   "mimetype": "text/x-python",
   "name": "python",
   "nbconvert_exporter": "python",
   "pygments_lexer": "ipython3",
   "version": "3.11.5"
  }
 },
 "nbformat": 4,
 "nbformat_minor": 2
}
